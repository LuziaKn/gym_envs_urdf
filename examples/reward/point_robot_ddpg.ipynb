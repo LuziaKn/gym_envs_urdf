{
 "cells": [
  {
   "cell_type": "code",
   "execution_count": 1,
   "metadata": {},
   "outputs": [
    {
     "name": "stderr",
     "output_type": "stream",
     "text": [
      "\n",
      "pybullet build time: May 20 2022 19:45:31\n"
     ]
    }
   ],
   "source": [
    "# Basic imports\n",
    "import gym\n",
    "import numpy as np\n",
    "import os\n",
    "from gym.wrappers import FlattenObservation\n",
    "\n",
    "# Stable baselines 3\n",
    "from stable_baselines3 import DDPG\n",
    "from stable_baselines3.common.noise import NormalActionNoise\n",
    "\n",
    "# URDF Envs\n",
    "from urdfenvs.urdf_common.urdf_env import UrdfEnv\n",
    "from urdfenvs.robots.generic_urdf import GenericUrdfReacher\n",
    "from urdfenvs.sensors.full_sensor import FullSensor\n",
    "from urdfenvs.scene_examples.goal import goal1\n",
    "from urdfenvs.urdf_common.reward import Reward\n"
   ]
  },
  {
   "cell_type": "code",
   "execution_count": 2,
   "metadata": {},
   "outputs": [],
   "source": [
    "MODEL_NAME = 'DDPG-001'\n",
    "MODEL_CLASS = DDPG"
   ]
  },
  {
   "cell_type": "code",
   "execution_count": 3,
   "metadata": {},
   "outputs": [],
   "source": [
    "models_dir = 'models/' + MODEL_NAME\n",
    "logdir = 'logs'\n",
    "\n",
    "if not os.path.exists(models_dir):\n",
    "    os.makedirs(models_dir)\n",
    "\n",
    "if not os.path.exists(logdir):\n",
    "    os.makedirs(logdir)"
   ]
  },
  {
   "cell_type": "code",
   "execution_count": 4,
   "metadata": {},
   "outputs": [],
   "source": [
    "class InverseDistanceDenseReward(Reward):\n",
    "    def calculateReward(self, observation: dict) -> float:\n",
    "        goal = observation['robot_0']['FullSensor']['goals'][1]['position']\n",
    "        position = observation['robot_0']['joint_state']['position']\n",
    "        reward = 1.0/np.linalg.norm(goal-position)\n",
    "        print(f'🏆 Reward is: {reward}')\n",
    "        return reward"
   ]
  },
  {
   "cell_type": "code",
   "execution_count": 5,
   "metadata": {},
   "outputs": [],
   "source": [
    "\n",
    "robots = [\n",
    "    GenericUrdfReacher(urdf=\"pointRobot.urdf\", mode=\"vel\"),\n",
    "    ]\n",
    "env= UrdfEnv(\n",
    "    dt=0.01,\n",
    "    robots=robots,\n",
    "    render=False,\n",
    ")"
   ]
  },
  {
   "cell_type": "code",
   "execution_count": 6,
   "metadata": {},
   "outputs": [
    {
     "name": "stdout",
     "output_type": "stream",
     "text": [
      "Initial observation : {'robot_0': {'joint_state': {'position': array([0. , 0.1, 0. ]), 'velocity': array([1., 0., 0.])}, 'FullSensor': {'goals': {1: {'position': array([1. , 0. , 0.1], dtype=float32)}}}}}\n"
     ]
    },
    {
     "name": "stderr",
     "output_type": "stream",
     "text": [
      "/home/behradx/anaconda3/envs/SB3/lib/python3.9/site-packages/gym/spaces/box.py:78: UserWarning: \u001b[33mWARN: Box bound precision lowered by casting to float32\u001b[0m\n",
      "  logger.warn(f\"Box bound precision lowered by casting to {self.dtype}\")\n"
     ]
    },
    {
     "name": "stdout",
     "output_type": "stream",
     "text": [
      "b3Warning[examples/Importers/ImportURDFDemo/BulletUrdfImporter.cpp,126]:\n",
      "No inertial data for link, using mass=1, localinertiadiagonal = 1,1,1, identity local inertial frameb3Warning[examples/Importers/ImportURDFDemo/BulletUrdfImporter.cpp,126]:\n",
      "lidar_sensor_link"
     ]
    }
   ],
   "source": [
    "env.add_goal(goal1)\n",
    "\n",
    "sensor = FullSensor(['position'], ['position', 'size'], variance=0.0)\n",
    "env.add_sensor(sensor, [0])\n",
    "env.set_spaces()\n",
    "env.set_reward_calculator(InverseDistanceDenseReward())\n",
    "defaultAction = np.array([0.5, -0.0, 0.0])\n",
    "pos0 = np.array([0.0, 0.1, 0.0])\n",
    "vel0 = np.array([1.0, 0.0, 0.0])\n",
    "\n",
    "ob = env.reset(pos=pos0, vel=vel0)\n",
    "env.shuffle_goals()\n",
    "print(f\"Initial observation : {ob}\")\n"
   ]
  },
  {
   "cell_type": "code",
   "execution_count": 7,
   "metadata": {},
   "outputs": [],
   "source": [
    "env = FlattenObservation(env)"
   ]
  },
  {
   "cell_type": "code",
   "execution_count": 15,
   "metadata": {},
   "outputs": [
    {
     "data": {
      "text/plain": [
       "dtype('float64')"
      ]
     },
     "execution_count": 15,
     "metadata": {},
     "output_type": "execute_result"
    }
   ],
   "source": [
    "env.action_space.dtype"
   ]
  },
  {
   "cell_type": "code",
   "execution_count": null,
   "metadata": {},
   "outputs": [],
   "source": [
    "n_actions = env.action_space.shape[-1]\n",
    "action_noise = NormalActionNoise(mean=np.zeros(n_actions), sigma=0.1 * np.ones(n_actions))\n",
    "\n",
    "TIMESTEPS = 1000\n",
    "model = MODEL_CLASS(\"MlpPolicy\", env, action_noise=action_noise, verbose=1, tensorboard_log=logdir)\n",
    "model.learn(total_timesteps=TIMESTEPS, log_interval=10, tb_log_name=MODEL_NAME, progress_bar=True)\n",
    "model.save(\"DDPG-model\")\n"
   ]
  },
  {
   "cell_type": "code",
   "execution_count": null,
   "metadata": {},
   "outputs": [],
   "source": [
    "obs = env.reset()\n",
    "while True:\n",
    "    action, _states = model.predict(obs)\n",
    "    obs, rewards, dones, info = env.step(action)\n"
   ]
  },
  {
   "cell_type": "code",
   "execution_count": 16,
   "metadata": {},
   "outputs": [],
   "source": [
    "env.close()"
   ]
  }
 ],
 "metadata": {
  "kernelspec": {
   "display_name": "SB3",
   "language": "python",
   "name": "python3"
  },
  "language_info": {
   "codemirror_mode": {
    "name": "ipython",
    "version": 3
   },
   "file_extension": ".py",
   "mimetype": "text/x-python",
   "name": "python",
   "nbconvert_exporter": "python",
   "pygments_lexer": "ipython3",
   "version": "3.9.13"
  },
  "orig_nbformat": 4
 },
 "nbformat": 4,
 "nbformat_minor": 2
}
